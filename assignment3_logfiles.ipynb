{
 "cells": [
  {
   "cell_type": "code",
   "execution_count": 4,
   "metadata": {},
   "outputs": [],
   "source": [
    "import shutil\n",
    "shutil.rmtree('streaming/') \n",
    "os.mkdir(\"streaming/\")"
   ]
  },
  {
   "cell_type": "code",
   "execution_count": null,
   "metadata": {},
   "outputs": [],
   "source": [
    "f=open(\"2019-03-01.csv\",'r').readlines()\n",
    "g=open(\"2019-03-02.csv\",'r').readlines()\n",
    "import time\n",
    "filename = 1\n",
    "for i in range(len(f)):\n",
    "    if i % 1000 == 0:\n",
    "        time.sleep(5)\n",
    "        open(\"streaming/log\"+str(filename) + '.csv', 'w+').writelines(f[i:i+1000])\n",
    "        filename =filename+1\n",
    "filename=filename+1\n",
    "for i in range(len(g)):\n",
    "    if i % 1000 == 0:\n",
    "        time.sleep(5)\n",
    "        open(\"streaming/log\"+str(filename) + '.csv', 'w+').writelines(f[i:i+1000])\n",
    "        filename =filename+1"
   ]
  },
  {
   "cell_type": "code",
   "execution_count": null,
   "metadata": {},
   "outputs": [],
   "source": []
  }
 ],
 "metadata": {
  "kernelspec": {
   "display_name": "Python 3",
   "language": "python",
   "name": "python3"
  },
  "language_info": {
   "codemirror_mode": {
    "name": "ipython",
    "version": 3
   },
   "file_extension": ".py",
   "mimetype": "text/x-python",
   "name": "python",
   "nbconvert_exporter": "python",
   "pygments_lexer": "ipython3",
   "version": "3.5.2"
  }
 },
 "nbformat": 4,
 "nbformat_minor": 2
}
